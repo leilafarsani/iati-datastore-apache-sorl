{
 "cells": [
  {
   "cell_type": "code",
   "execution_count": 14,
   "metadata": {},
   "outputs": [],
   "source": [
    "import requests\n",
    "import pandas as pd\n",
    "from datetime import datetime\n",
    "import concurrent.futures\n",
    "from requests.adapters import HTTPAdapter\n",
    "from requests.packages.urllib3.util.retry import Retry\n",
    "import xml.etree.ElementTree as ET\n",
    "from dotenv import load_dotenv\n",
    "import os\n",
    "import time\n"
   ]
  },
  {
   "cell_type": "code",
   "execution_count": 15,
   "metadata": {},
   "outputs": [],
   "source": [
    "load_dotenv()\n",
    "api_key = os.getenv('IATI_API_KEY')\n",
    "\n",
    "if not api_key:\n",
    "    raise ValueError(\"API key not found. Please make sure it is set in the .env file or update it if necessary.\")"
   ]
  },
  {
   "cell_type": "markdown",
   "metadata": {},
   "source": [
    "activity collection - Apache-Solr - default "
   ]
  },
  {
   "cell_type": "code",
   "execution_count": 16,
   "metadata": {},
   "outputs": [],
   "source": [
    "def requests_retry_session(\n",
    "    retries=3,\n",
    "    backoff_factor=0.3,\n",
    "    status_forcelist=(500, 502, 504),\n",
    "    session=None,\n",
    "):\n",
    "    session = session or requests.Session()\n",
    "    retry = Retry(\n",
    "        total=retries,\n",
    "        read=retries,\n",
    "        connect=retries,\n",
    "        backoff_factor=backoff_factor,\n",
    "        status_forcelist=status_forcelist,\n",
    "    )\n",
    "    adapter = HTTPAdapter(max_retries=retry)\n",
    "    session.mount('http://', adapter)\n",
    "    session.mount('https://', adapter)\n",
    "    return session\n",
    "\n",
    "def fetch_page(start):\n",
    "    params = {\n",
    "        'q': '(sector_code:(11250 OR 12240 OR 31110 OR 31120 OR 31130 OR 31140 OR 31150 OR 31161 OR 31162 OR 31163 OR 31164 OR 31165 OR 31166 OR 31181 OR 31182 OR 31191 OR 31192 OR 31193 OR 31194 OR 31195 OR 31210 OR 31220 OR 31261 OR 31281 OR 31282 OR 31291 OR 31310 OR 31320 OR 31381 OR 31382 OR 31391 OR 32161 OR 32162 OR 43040 OR 43071 OR 43072 OR 43073 OR 52010) OR sector_vocabulary:2 AND sector_code:(311 OR 312 OR 313)) OR (title_narrative:(\"food security\" OR \"food insecurity\") OR description_narrative:(\"food security\" OR \"food insecurity\"))',\n",
    "        'fl': '*',\n",
    "        'rows': 1000,\n",
    "        'start': start\n",
    "    }\n",
    "    headers = {'Ocp-Apim-Subscription-Key': api_key}\n",
    "    \n",
    "    for attempt in range(5):  # Try up to 5 times\n",
    "        try:\n",
    "            response = requests_retry_session().get(base_url, headers=headers, params=params, timeout=30)\n",
    "            response.raise_for_status()\n",
    "            return response.json()['response']['docs']\n",
    "        except requests.exceptions.HTTPError as e:\n",
    "            if response.status_code == 429:\n",
    "                wait = 2 ** attempt  # exponential backoff\n",
    "                print(f\"Rate limit hit. Waiting for {wait} seconds.\")\n",
    "                time.sleep(wait)\n",
    "            else:\n",
    "                print(f\"HTTP error occurred: {e}\")\n",
    "        except Exception as e:\n",
    "            print(f\"An error occurred: {e}\")\n",
    "        \n",
    "    print(f\"Failed to fetch data for start={start} after 5 attempts\")\n",
    "    return []\n",
    "\n",
    "def get_total_results():\n",
    "    params = {\n",
    "        'q': '(sector_code:(11250 OR 12240 OR 31110 OR 31120 OR 31130 OR 31140 OR 31150 OR 31161 OR 31162 OR 31163 OR 31164 OR 31165 OR 31166 OR 31181 OR 31182 OR 31191 OR 31192 OR 31193 OR 31194 OR 31195 OR 31210 OR 31220 OR 31261 OR 31281 OR 31282 OR 31291 OR 31310 OR 31320 OR 31381 OR 31382 OR 31391 OR 32161 OR 32162 OR 43040 OR 43071 OR 43072 OR 43073 OR 52010) OR sector_vocabulary:2 AND sector_code:(311 OR 312 OR 313)) OR (title_narrative:(\"food security\" OR \"food insecurity\") OR description_narrative:(\"food security\" OR \"food insecurity\"))',\n",
    "        'rows': 0\n",
    "    }\n",
    "    headers = {'Ocp-Apim-Subscription-Key': api_key}\n",
    "    response = requests_retry_session().get(base_url, headers=headers, params=params)\n",
    "    if response.status_code == 200:\n",
    "        return response.json()['response']['numFound']\n",
    "    else:\n",
    "        print(f\"Error: {response.status_code}\")\n",
    "        return 0\n",
    "\n",
    "base_url = \"https://api.iatistandard.org/datastore/activity/select\"\n",
    "total_results = get_total_results()\n",
    "all_activities = []\n",
    "\n",
    "print(f\"Total results to fetch: {total_results}\")\n",
    "\n",
    "with concurrent.futures.ThreadPoolExecutor(max_workers=2) as executor:  # Reduced number of workers\n",
    "    futures = [executor.submit(fetch_page, i) for i in range(0, total_results, 1000)]\n",
    "    for i, future in enumerate(concurrent.futures.as_completed(futures)):\n",
    "        all_activities.extend(future.result())\n",
    "        print(f\"Fetched page {i+1}/{len(futures)}\")\n",
    "        time.sleep(1)  # Add a delay between requests\n",
    "\n",
    "df = pd.DataFrame(all_activities)\n",
    "print(f\"Total activities fetched: {len(df)}\")\n"
   ]
  }
 ],
 "metadata": {
  "kernelspec": {
   "display_name": "iati_env",
   "language": "python",
   "name": "python3"
  },
  "language_info": {
   "codemirror_mode": {
    "name": "ipython",
    "version": 3
   },
   "file_extension": ".py",
   "mimetype": "text/x-python",
   "name": "python",
   "nbconvert_exporter": "python",
   "pygments_lexer": "ipython3",
   "version": "3.9.6"
  }
 },
 "nbformat": 4,
 "nbformat_minor": 2
}
